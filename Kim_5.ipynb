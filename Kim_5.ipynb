{
  "nbformat": 4,
  "nbformat_minor": 0,
  "metadata": {
    "colab": {
      "provenance": []
    },
    "kernelspec": {
      "name": "python3",
      "display_name": "Python 3"
    },
    "language_info": {
      "name": "python"
    }
  },
  "cells": [
    {
      "cell_type": "code",
      "execution_count": null,
      "metadata": {
        "colab": {
          "base_uri": "https://localhost:8080/",
          "height": 607
        },
        "id": "rheKlrpLiDIG",
        "outputId": "9e21c2f8-b627-4cea-e4fb-f01ca43b23f3"
      },
      "outputs": [
        {
          "output_type": "display_data",
          "data": {
            "text/plain": [
              "<Figure size 720x720 with 3 Axes>"
            ],
            "image/png": "[encoded data removed]"
          },
          "metadata": {
            "needs_background": "light"
          }
        }
      ],
      "source": [
        "import numpy as np\n",
        "import matplotlib.pyplot as plt\n",
        "\n",
        "ctext1 = '''lwe fev hpsuia ejcj ep lwe fev ttfqvb zpd fskw. bru. lrjht cra\n",
        "exsu fffvlgc ess srikl hooi egjru sc lwe osofxni aflw tji\n",
        "ffkanma, owo esklxnwia, lwowke kaoypv, ld mgra; scd kr qzt\n",
        "exikacg gpfrpbgxe bdipia lwekv msgta mk lwe fvxoxni-vlgb. tji\n",
        "igd tcfiw, woyiswg, dkh kgi artbsg. mt. hxjry yep ogivmky, pnf\n",
        "qfkh bkrddty, uixltd pixj wio, axk lavgeacg vlb hgoivbkh oh lfk\n",
        "aevxbj, pnf vbhtaviadn ccpiacg qjc zxs cxqwctksk tn mgwpsveu xl\n",
        "zxs umpltr. ov. emgsv ekv br. dmkyaea abjt av tfijev, ekv bru.\n",
        "lrjht yep gqsgvsacg vlbag gcqb.\n",
        "waibeywih vslc jp usjw ceghiwloto, xfs wcw pmufkgfwctnc xejsgh ff\n",
        "ptvikvxni xl owav txkhef fbllegr asgca ekv wiu gleeapmlf. ihg\n",
        "tbjeevyxd rooqbfsavmlfh oh xew aafc baihgv lf wiu lxfswtmqacg,\n",
        "qv lf ihg iswcngwp gu hkw iaceu, so gc tji iwcgvl lx wiu pbliet,\n",
        "aflw tji mwgfggq mccqrzwgn ymqz lhkge ztr rvxaheu abjt rggbakef,\n",
        "jljbef e zmgiqyp vxansdmt, aph tsh ezezlay kr rfxsqr taih jio\n",
        "geipmlf df gezz.\n",
        "\"woy hbdxgjxbv biuw asgca afda bg xl jtcgmsw huel x dttvio!\"\n",
        "zt mchb fd apwtwg.\n",
        "\"yqy tjxtg ykudmoskdn fcwq.\"\n",
        "\"qdu cvb exsvehwc. i yvflt rcxewg snstdn.\"\n",
        "\"hqa jscy niqltru clm buux eske qgzshiqr qg lrkxb ac tji zgjrui\n",
        "lx p ygeo! dttviok df dypaceuw, qgd! hqa lvxoww f kwowpa lwipo\n",
        "qztm!\"\n",
        "\"kx fk uotxrfptg, xewc, tjeq lwea jxda tq qv ddt krpltaf sc ld\n",
        "yqyok.\"\n",
        "\"ercc qwal asrj hiuxbj ihcx f ddni xl kte jio.\"\n",
        "\"a waxi xdgechv ldlf lbj ho qrzw, qy asrj seumow.\"\n",
        "\"x ao ecjpif clm so psq dxkg clmg pgr. iwi mg qbfs iv jlj now. m\n",
        "jwcd rikk geoeocpbnc twal.\"\n",
        "\"vlxfz yqy-ymi i cptsns oikv by qak.\"\n",
        "\"zdw eek qdu esklgixi qg lrkxb kd exik?\"\n",
        "zt wcw paaepx.'''\n",
        "\n",
        "ctext2 = \"\"\"OZBDEEASTZCOYBVYBKVOUBVRPVFSITYWABHTNBDILASOBDUSAY\n",
        "RPTYRTUSZBTYBASEVYITWACVYUTUSBCAWTIOEOIXDOBBOUNBCA\n",
        "NVVSIOBPVEVFSRTUCTBBVOSDFPTYYOJASOUUAKHASEVYSOBKTZ\n",
        "TZTBDYSTPUONCBOUSAIARHAYRDICKTZOSOZTWWVOUBASDWVUFA\n",
        "TYUOUNBCTBBCAFOBBFAWTILABEVYUTUBDILABCTSTFYATSPZTO\n",
        "FASTUSBCTBUVKTPVEYATICOUNBCTBWFTIAKVDFSVEEAYBOFFBC\n",
        "AEVFFVKOUNRVUSTPTZRVZBPVDUNITUSOSTBAZEVYBCAWTOUZTU\n",
        "SWAUTFBOAZVEKCTFOUNZBVWTBBCOZZTRAUAKHASEVYSBCAUIAB\n",
        "VARHTYLVUBCAOYJVPTNAOBRTPTZKAFFHAYAFTBASBCTBOEVYVU\n",
        "ACTSUVOSATVEZVSVOUNEVYRPROUSKTZRTSADWBVZTOFOUUVVBC\n",
        "AYBCTUTUTUBDILABIYTEBHAITDZABCAYAKTZTEOUAHVOZBAYVD\n",
        "ZZVRABCOUNTHVDBAJAYPBCOUNIVUUAIBASKOBCBCTBETRVDZVF\n",
        "SOZFTUSKCOICTRTQOUNFPWFATZASRAHAZOSAZBCVDNCUAKHASE\n",
        "VYSCTZVEFTBAHAAUNYTSDTFFPRVUVWVFOZOUNBCAHDZOUAZZVE\n",
        "KCTFOUNTUSBCVDNCOUBCOZRTBBAYWVVYVFSUTUBDILABOZUVKR\n",
        "DICHACOUSCAYPABUTUBDILABKTZCAYNYATBVYONOUTFBCABPYA\n",
        "VEBCOZITYBCTNABCAWFTIAKCAYABCAEOYZBSATSTRAYOITUKCT\n",
        "FAKTZZBYTUSASKCAYAAFZAHDBEYVRUTUBDILABSOSBCVZATHVY\n",
        "ONOUTFKCTFARAUBCAYASRAUEOYZBZTFFPVDBOUITUVAZBVNOJA\n",
        "ICTZABVBCAFAJOTBCTUTUSKCAYAHDBEYVRUTUBDILABBVVSOSB\n",
        "CTBEOYZBTSJAUBDYVDZFOBBFAZFVVWWDBEVYBCWTYBFPFTSAUK\n",
        "OBCORWVYBASIVHHFAZBVUAZZVNVAZBCAZBVYPBVBCYVKTBBCAK\n",
        "CTFAZOUVYSAYBVSOZIVJAYKCAUBCAPKAYAUONCAUVDNCBVYOZL\n",
        "TCTYWVVUEYVRBCAHVKZWYOBUVKCTJOUNTUONCBTSTPTUSZBOFF\n",
        "TUVBCAYUONCBEVFFVKOUNHAEVYARAOUUAKHASEVYSAYAOIVDFS\n",
        "ARHTYLEVYRPSAZBOUASWVYBOBHAITRATRTBBAYVEIVUIAYURAU\n",
        "BKCAYAOKTZBVATBTUSZFAAWRATUKCOFAOBKTZTJAYPSDHOVDZF\n",
        "VVLOUNUTPTJAYPSTYLTUSSOZRTFUONCBHOBOUNFPIVFSTUSICA\n",
        "AYFAZZOLUAKUVVUAOUBCAWFTIAKOBCTUMOVDZNYTWUAFZOCTSZ\n",
        "VDUSASRPWVILABTUSVUFPHYVDNCBDWTEAKWOAIAZVEZOFJAYZV\n",
        "KCAYAJAYPVDNVOZCRTAFZTOSOBVRPZAFETZOZBVVSOUBCAROSS\n",
        "FAVETSYATYPZBYAABZCVDFSAYOUNRPHTNTUSIVRWTYOUNBCANF\n",
        "VVRBVKTYSZBCAUVYBCKOBCBCASTYLUAZZBVKTYSZBCAZVDBCKC\n",
        "AYAJAYOUPVDYKOZSVRPVDRTPIVUIFDSABVFVSNAEVYBCAUONCB\n",
        "RPSATYOZCRTAFHAZDYABVOUXDOYABCAWYOIATUSSVUBHABVVWT\n",
        "YBOIDFTYKOBCCTFBOUNZBAWZOWTIASBCAZBYAABZTUSWTZZASB\n",
        "CAZONUVEBCAIYVZZASCTYWVVUZHDBOBFVVLASBVVAMWAUZOJAT\n",
        "USGVFFPBCAYAEDYBCAYVUEYVRBCAHYONCBYASKOUSVKZVEBCAZ\n",
        "KVYSEOZCOUUBCAYAITRAZDICEAYJAUBYTPZBCTBOBZAARASBVC\n",
        "TJARAFBASBCAWTILASZUVKTUSOIAEYVRHAEVYABCACVDZAEVYA\n",
        "JAYPKCAYAAFZABCAIVUNATFASEYVZBFTPBAUOUICAZBCOILOUT\n",
        "CTYSTZWCTFBOIWTJARAUBYTBCAYKATYPEVYRAKCAUOZBYDILRP\n",
        "EVVBTNTOUZBBCAEFOUBPWYVGAIBOVUZHAITDZAEYVRCTYSYARV\n",
        "YZAFAZZZAYJOIABCAZVFAZVERPHVVBZKAYAOUTRVZBROZAYTHF\n",
        "AWFONCBBVVAMWAUZOJATUSGVFFPTNTOUBCVDNCBOWTDZOUNVUA\n",
        "RVRAUBBVKTBICBCAHYVTSNFTYAOUBCAZBYAABTUSCATYBCAZVD\n",
        "USZVEBCABOULFOUNNFTZZAZKOBCOUHDBNVVUOZCRTAFZTOSOTB\n",
        "FTZBSVUBPVDCATYNABTKTPEYVRHAEVYABCASVVYPVDYWTBICAS\n",
        "HVVBZTYAZBVWWOUNBCAKTPZVVUOKAUBOUVKHPOUZBOUIBEVFFV\n",
        "KASBCAZBYAABZBCTBBVVLRAKTBAYKTYSEVYBCAYASVDHBFAZZK\n",
        "AYABCAICATWAZBOEUVBBCAICAAYOAZBOUUZ\"\"\"\n",
        "\n",
        "abc = \"ABCDEFGHIJKLMNOPQRSTUVWXYZ\"\n",
        "\n",
        "ct1 = \"\"\n",
        "ct2 = \"\"\n",
        "\n",
        "for char in ctext1.upper():\n",
        "  if char in abc:\n",
        "    ct1 += char\n",
        "\n",
        "for char in ctext2.upper():\n",
        "  if char in abc:\n",
        "    ct2 += char\n",
        "\n",
        "c1 = [0]*26\n",
        "c2 = [0]*26\n",
        "for char in ct1:\n",
        "  c1[abc.find(char)] += 1\n",
        "for char in ct2:\n",
        "  c2[abc.find(char)] += 1\n",
        "\n",
        "c1d = [x/sum(c1) for x in c1]\n",
        "c2d = [x/sum(c2) for x in c2]\n",
        "eld = [.08167,.01492,.02782,.04253,0.12702,0.02228,0.02015,0.06094,0.06966,0.00153,0.0077,0.04025,0.02406,0.06749,0.07507,0.01929,0.00095,0.05987,0.06327,0.09056,0.02758,0.00978,0.02360,0.00150,0.01974,0.00074]\n",
        "plt.figure(figsize=(10,10))\n",
        "plt.subplot(221)\n",
        "plt.bar([char for char in abc],c1d)\n",
        "plt.title(\"Ciphertext 1 Character Distribution\")\n",
        "plt.ylim(0,max(c2d)+0.01)\n",
        "plt.subplot(222)\n",
        "plt.bar([char for char in abc],c2d)\n",
        "plt.title(\"Ciphertext 2 Character Distribution\")\n",
        "plt.ylim(0,max(c2d)+0.01)\n",
        "plt.subplot(223)\n",
        "plt.bar([char for char in abc],eld)\n",
        "plt.title(\"Typical English Character Distribution\")\n",
        "plt.ylim(0,max(c2d)+0.01)\n",
        "plt.show()"
      ]
    },
    {
      "cell_type": "markdown",
      "source": [],
      "metadata": {
        "id": "INvSFZzRnH90"
      }
    },
    {
      "cell_type": "code",
      "source": [
        "# Calculating I_C for c1 and c2\n",
        "Ie = 0.0656\n",
        "Ir = 1.0/26 # about 0.0385\n",
        "Ic1 = 0\n",
        "Ic2 = 0\n",
        "n1 = sum(c1)\n",
        "n2 = sum(c2)\n",
        "for x in c1:\n",
        "  Ic1 += x*(x-1.0)/(n1*(n1-1.0))\n",
        "for x in c2:\n",
        "  Ic2 += x*(x-1.0)/(n2*(n2-1.0))\n",
        "print(Ic1)\n",
        "print(Ic2)"
      ],
      "metadata": {
        "id": "y_P5I2Xttz1D",
        "colab": {
          "base_uri": "https://localhost:8080/"
        },
        "outputId": "269fe49f-ad70-416b-b3b2-15c292b92645"
      },
      "execution_count": null,
      "outputs": [
        {
          "output_type": "stream",
          "name": "stdout",
          "text": [
            "0.04153197033256929\n",
            "0.06471264958302783\n"
          ]
        }
      ]
    },
    {
      "cell_type": "code",
      "source": [],
      "metadata": {
        "id": "82257CFC0g7O"
      },
      "execution_count": null,
      "outputs": []
    },
    {
      "cell_type": "markdown",
      "source": [
        "Using these coincidence index, I knew that it was a vigenere cipher. So using an online tool i was able to get the plain text with the key spacex\n",
        "This is the plain text.\n",
        "the day passed much as the day before had done. mrs. hurst and\n",
        "miss bingley had spent some hours of the morning with the\n",
        "invalid, who continued, though slowly, to mend; and in the\n",
        "evening elizabeth joined their party in the drawing-room. the\n",
        "loo table, however, did not appear. mr. darcy was writing, and\n",
        "miss bingley, seated near him, was watching the progress of his\n",
        "letter, and repeatedly calling off his attention by messages to\n",
        "his sister. mr. hurst and mr. bingley were at piquet, and mrs.\n",
        "hurst was observing their game.\n",
        "elizabeth took up some needlework, and was sufficiently amused in\n",
        "attending to what passed between darcy and his companion. the\n",
        "perpetual commendations of the lady either on his handwriting,\n",
        "or on the evenness of his lines, or on the length of his letter,\n",
        "with the perfect unconcern with which her praises were received,\n",
        "formed a curious dialogue, and was exactly in unison with her\n",
        "opinion of each.\n",
        "\"how delighted miss darcy will be to receive such a letter!\"\n",
        "he made no answer.\n",
        "\"you write uncommonly fast.\"\n",
        "\"you are mistaken. i write rather slowly.\"\n",
        "\"how many letters you must have occasion to write in the course\n",
        "of a year! letters of business, too! how odious i should think\n",
        "them!\"\n",
        "\"it is fortunate, then, that they fall to my lot instead of to\n",
        "yours.\"\n",
        "\"pray tell your sister that i long to see her.\"\n",
        "\"i have already told her so once, by your desire.\"\n",
        "\"i am afraid you do not like your pen. let me mend it for you. i\n",
        "mend pens remarkably well.\"\n",
        "\"thank you-but i always mend my own.\"\n",
        "\"how can you contrive to write so even?\"\n",
        "he was silent."
      ],
      "metadata": {
        "id": "8sFFyRz3nWER"
      }
    }
  ]
}